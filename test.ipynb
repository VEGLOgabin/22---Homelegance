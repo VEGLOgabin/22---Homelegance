{
 "cells": [
  {
   "cell_type": "code",
   "execution_count": 3,
   "metadata": {},
   "outputs": [
    {
     "name": "stdout",
     "output_type": "stream",
     "text": [
      "Filtered data saved to output/filtered-products-data.json\n"
     ]
    }
   ],
   "source": [
    "import json\n",
    "\n",
    "# Load the JSON file\n",
    "input_file = \"output/products-data.json\"\n",
    "output_file = \"output/filtered-products-data.json\"\n",
    "\n",
    "# Read the data\n",
    "with open(input_file, \"r\") as file:\n",
    "    data = json.load(file)\n",
    "\n",
    "# Filter out products with null Product Title\n",
    "filtered_data = [product for product in data if product[\"Product Title\"] is not None]\n",
    "\n",
    "# Save the filtered data back to a new file\n",
    "with open(output_file, \"w\") as file:\n",
    "    json.dump(filtered_data, file, indent=4)\n",
    "\n",
    "print(f\"Filtered data saved to {output_file}\")\n"
   ]
  }
 ],
 "metadata": {
  "kernelspec": {
   "display_name": "Python 3",
   "language": "python",
   "name": "python3"
  },
  "language_info": {
   "codemirror_mode": {
    "name": "ipython",
    "version": 3
   },
   "file_extension": ".py",
   "mimetype": "text/x-python",
   "name": "python",
   "nbconvert_exporter": "python",
   "pygments_lexer": "ipython3",
   "version": "3.8.10"
  }
 },
 "nbformat": 4,
 "nbformat_minor": 2
}
